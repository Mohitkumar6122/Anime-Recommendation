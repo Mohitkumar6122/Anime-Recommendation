{
 "cells": [
  {
   "cell_type": "markdown",
   "metadata": {
    "_cell_guid": "4c558693-ea15-43e8-93ac-0bd09ffa3fe7",
    "_uuid": "048a9c331722e48460a3e8af5738246b9cee5baa"
   },
   "source": [
    "## ANIME RECOMMENDATION SYSTEM"
   ]
  },
  {
   "cell_type": "code",
   "execution_count": 1,
   "metadata": {
    "_cell_guid": "3d40a89f-c9ef-85fe-7939-f69d50cc9bc8",
    "_execution_state": "idle",
    "_uuid": "0f30fc0c8feeee6cdfd77760da40be20980a0062"
   },
   "outputs": [],
   "source": [
    "import numpy as np\n",
    "import pandas as pd\n",
    "import matplotlib.pyplot as plt\n",
    "import re\n",
    "import seaborn as sns\n",
    "%matplotlib inline"
   ]
  },
  {
   "cell_type": "code",
   "execution_count": 2,
   "metadata": {
    "_cell_guid": "b7a8ab77-0059-f73c-d7b1-82eac9b111c9",
    "_execution_state": "idle",
    "_uuid": "2746769b45bd9758c14b775496fcecf00f8e518b"
   },
   "outputs": [],
   "source": [
    "anime = pd.read_csv(\"anime.csv\")"
   ]
  },
  {
   "cell_type": "code",
   "execution_count": 3,
   "metadata": {
    "_cell_guid": "43808df8-9c5c-5d0b-3c74-0a1801662302",
    "_execution_state": "idle",
    "_uuid": "b2c2f5899279adf34365ca7369495a1e3c4f519d"
   },
   "outputs": [
    {
     "data": {
      "text/html": [
       "<div>\n",
       "<style scoped>\n",
       "    .dataframe tbody tr th:only-of-type {\n",
       "        vertical-align: middle;\n",
       "    }\n",
       "\n",
       "    .dataframe tbody tr th {\n",
       "        vertical-align: top;\n",
       "    }\n",
       "\n",
       "    .dataframe thead th {\n",
       "        text-align: right;\n",
       "    }\n",
       "</style>\n",
       "<table border=\"1\" class=\"dataframe\">\n",
       "  <thead>\n",
       "    <tr style=\"text-align: right;\">\n",
       "      <th></th>\n",
       "      <th>anime_id</th>\n",
       "      <th>name</th>\n",
       "      <th>genre</th>\n",
       "      <th>type</th>\n",
       "      <th>episodes</th>\n",
       "      <th>rating</th>\n",
       "      <th>members</th>\n",
       "    </tr>\n",
       "  </thead>\n",
       "  <tbody>\n",
       "    <tr>\n",
       "      <th>0</th>\n",
       "      <td>32281</td>\n",
       "      <td>Kimi no Na wa.</td>\n",
       "      <td>Drama, Romance, School, Supernatural</td>\n",
       "      <td>Movie</td>\n",
       "      <td>1</td>\n",
       "      <td>9.37</td>\n",
       "      <td>200630</td>\n",
       "    </tr>\n",
       "    <tr>\n",
       "      <th>1</th>\n",
       "      <td>5114</td>\n",
       "      <td>Fullmetal Alchemist: Brotherhood</td>\n",
       "      <td>Action, Adventure, Drama, Fantasy, Magic, Mili...</td>\n",
       "      <td>TV</td>\n",
       "      <td>64</td>\n",
       "      <td>9.26</td>\n",
       "      <td>793665</td>\n",
       "    </tr>\n",
       "    <tr>\n",
       "      <th>2</th>\n",
       "      <td>28977</td>\n",
       "      <td>Gintama°</td>\n",
       "      <td>Action, Comedy, Historical, Parody, Samurai, S...</td>\n",
       "      <td>TV</td>\n",
       "      <td>51</td>\n",
       "      <td>9.25</td>\n",
       "      <td>114262</td>\n",
       "    </tr>\n",
       "    <tr>\n",
       "      <th>3</th>\n",
       "      <td>9253</td>\n",
       "      <td>Steins;Gate</td>\n",
       "      <td>Sci-Fi, Thriller</td>\n",
       "      <td>TV</td>\n",
       "      <td>24</td>\n",
       "      <td>9.17</td>\n",
       "      <td>673572</td>\n",
       "    </tr>\n",
       "    <tr>\n",
       "      <th>4</th>\n",
       "      <td>9969</td>\n",
       "      <td>Gintama&amp;#039;</td>\n",
       "      <td>Action, Comedy, Historical, Parody, Samurai, S...</td>\n",
       "      <td>TV</td>\n",
       "      <td>51</td>\n",
       "      <td>9.16</td>\n",
       "      <td>151266</td>\n",
       "    </tr>\n",
       "  </tbody>\n",
       "</table>\n",
       "</div>"
      ],
      "text/plain": [
       "   anime_id                              name  \\\n",
       "0     32281                    Kimi no Na wa.   \n",
       "1      5114  Fullmetal Alchemist: Brotherhood   \n",
       "2     28977                          Gintama°   \n",
       "3      9253                       Steins;Gate   \n",
       "4      9969                     Gintama&#039;   \n",
       "\n",
       "                                               genre   type episodes  rating  \\\n",
       "0               Drama, Romance, School, Supernatural  Movie        1    9.37   \n",
       "1  Action, Adventure, Drama, Fantasy, Magic, Mili...     TV       64    9.26   \n",
       "2  Action, Comedy, Historical, Parody, Samurai, S...     TV       51    9.25   \n",
       "3                                   Sci-Fi, Thriller     TV       24    9.17   \n",
       "4  Action, Comedy, Historical, Parody, Samurai, S...     TV       51    9.16   \n",
       "\n",
       "   members  \n",
       "0   200630  \n",
       "1   793665  \n",
       "2   114262  \n",
       "3   673572  \n",
       "4   151266  "
      ]
     },
     "execution_count": 3,
     "metadata": {},
     "output_type": "execute_result"
    }
   ],
   "source": [
    "anime.head()"
   ]
  },
  {
   "cell_type": "markdown",
   "metadata": {
    "_cell_guid": "ae7d00cf-2749-6484-674c-78277c4829ab",
    "_uuid": "05468602e062a0083d1511241afea381e04fad68"
   },
   "source": [
    "# Data Preprocessing : "
   ]
  },
  {
   "cell_type": "code",
   "execution_count": 4,
   "metadata": {
    "_cell_guid": "ac4631f9-3c21-b767-86ca-fe2b2859048c",
    "_execution_state": "idle",
    "_uuid": "88e3fb3e281dfb51118b802064c4afd84f91d2a0"
   },
   "outputs": [],
   "source": [
    "anime.loc[(anime[\"genre\"]==\"Hentai\") & (anime[\"episodes\"]==\"Unknown\"),\"episodes\"] = \"1\"\n",
    "anime.loc[(anime[\"type\"]==\"OVA\") & (anime[\"episodes\"]==\"Unknown\"),\"episodes\"] = \"1\"\n",
    "\n",
    "anime.loc[(anime[\"type\"] == \"Movie\") & (anime[\"episodes\"] == \"Unknown\")] = \"1\""
   ]
  },
  {
   "cell_type": "code",
   "execution_count": 5,
   "metadata": {
    "_cell_guid": "9d7dff28-7e65-18f8-01f1-c606529d6ea0",
    "_execution_state": "idle",
    "_uuid": "5c2918bbaf07870165242183a56a9a7ed4a037f9"
   },
   "outputs": [],
   "source": [
    "known_animes = {\"Naruto Shippuuden\":500, \"One Piece\":784,\"Detective Conan\":854, \"Dragon Ball Super\":86,\n",
    "                \"Crayon Shin chan\":942, \"Yu Gi Oh Arc V\":148,\"Shingeki no Kyojin Season 2\":25,\n",
    "                \"Boku no Hero Academia 2nd Season\":25,\"Little Witch Academia TV\":25}"
   ]
  },
  {
   "cell_type": "code",
   "execution_count": 6,
   "metadata": {
    "_cell_guid": "d8e89ac4-efa4-b608-92c0-f589a8987894",
    "_execution_state": "idle",
    "_uuid": "f0bbe781e339e50b5e6157a9382714ad3b53213d"
   },
   "outputs": [],
   "source": [
    "for k,v in known_animes.items():    \n",
    "    anime.loc[anime[\"name\"]==k,\"episodes\"] = v"
   ]
  },
  {
   "cell_type": "code",
   "execution_count": 7,
   "metadata": {
    "_cell_guid": "53ece008-e97f-9ec3-2e75-3748d5a0adf2",
    "_execution_state": "idle",
    "_uuid": "92fb4e4d637bd26be6f96b6e945c9410d29e8126"
   },
   "outputs": [],
   "source": [
    "anime[\"episodes\"] = anime[\"episodes\"].map(lambda x:np.nan if x==\"Unknown\" else x)"
   ]
  },
  {
   "cell_type": "code",
   "execution_count": 8,
   "metadata": {
    "_cell_guid": "a1c2fce2-b746-b0db-dfe0-5f6d513b956d",
    "_execution_state": "idle",
    "_uuid": "f9daaeca87058b87e13688a2553037141563056d"
   },
   "outputs": [],
   "source": [
    "anime[\"episodes\"].fillna(anime[\"episodes\"].median(),inplace = True)"
   ]
  },
  {
   "cell_type": "markdown",
   "metadata": {
    "_cell_guid": "eb8d01f6-ea41-51ad-8522-3c73879d5b07",
    "_uuid": "751f896a924e6912d2b24de607069a55a1134195"
   },
   "source": [
    "### Rating \n",
    "\n",
    "Many animes have unknown ratings. These were filled with the median of the ratings."
   ]
  },
  {
   "cell_type": "code",
   "execution_count": 9,
   "metadata": {
    "_cell_guid": "487b44b8-223e-fcba-6ac3-f9d91dcecdb5",
    "_execution_state": "idle",
    "_uuid": "b90562d842e1d794c7b15253335ccffb956c5eee"
   },
   "outputs": [],
   "source": [
    "anime[\"rating\"] = anime[\"rating\"].astype(float)"
   ]
  },
  {
   "cell_type": "code",
   "execution_count": 10,
   "metadata": {
    "_cell_guid": "a088d1c6-bcf1-1a2f-3538-a2262b457ad9",
    "_execution_state": "idle",
    "_uuid": "da8c00a8c676399ef55b11fc741bce0c57bc78d6"
   },
   "outputs": [],
   "source": [
    "anime[\"rating\"].fillna(anime[\"rating\"].median(),inplace = True)"
   ]
  },
  {
   "cell_type": "markdown",
   "metadata": {
    "_cell_guid": "30442d93-265b-dc00-2d45-e5f1e778e237",
    "_uuid": "79ab71a951951e0c69a370885f6c67a7ce31db3f"
   },
   "source": [
    "### Type \n",
    "\n",
    "Type category differentiates between movies, music, TV shows(regular anime episodes), OVA/ONA etc. These are categorical variables so I used ```pd.get_dummies``` to convert them to dummy variables."
   ]
  },
  {
   "cell_type": "code",
   "execution_count": 11,
   "metadata": {
    "_cell_guid": "3729f3d2-4ee1-c987-7ff9-a828776893aa",
    "_execution_state": "idle",
    "_uuid": "c12a723947ed1a708c953c6b97719f8861eab263"
   },
   "outputs": [
    {
     "data": {
      "text/html": [
       "<div>\n",
       "<style scoped>\n",
       "    .dataframe tbody tr th:only-of-type {\n",
       "        vertical-align: middle;\n",
       "    }\n",
       "\n",
       "    .dataframe tbody tr th {\n",
       "        vertical-align: top;\n",
       "    }\n",
       "\n",
       "    .dataframe thead th {\n",
       "        text-align: right;\n",
       "    }\n",
       "</style>\n",
       "<table border=\"1\" class=\"dataframe\">\n",
       "  <thead>\n",
       "    <tr style=\"text-align: right;\">\n",
       "      <th></th>\n",
       "      <th>type_1</th>\n",
       "      <th>type_Movie</th>\n",
       "      <th>type_Music</th>\n",
       "      <th>type_ONA</th>\n",
       "      <th>type_OVA</th>\n",
       "      <th>type_Special</th>\n",
       "      <th>type_TV</th>\n",
       "    </tr>\n",
       "  </thead>\n",
       "  <tbody>\n",
       "    <tr>\n",
       "      <th>0</th>\n",
       "      <td>0</td>\n",
       "      <td>1</td>\n",
       "      <td>0</td>\n",
       "      <td>0</td>\n",
       "      <td>0</td>\n",
       "      <td>0</td>\n",
       "      <td>0</td>\n",
       "    </tr>\n",
       "    <tr>\n",
       "      <th>1</th>\n",
       "      <td>0</td>\n",
       "      <td>0</td>\n",
       "      <td>0</td>\n",
       "      <td>0</td>\n",
       "      <td>0</td>\n",
       "      <td>0</td>\n",
       "      <td>1</td>\n",
       "    </tr>\n",
       "    <tr>\n",
       "      <th>2</th>\n",
       "      <td>0</td>\n",
       "      <td>0</td>\n",
       "      <td>0</td>\n",
       "      <td>0</td>\n",
       "      <td>0</td>\n",
       "      <td>0</td>\n",
       "      <td>1</td>\n",
       "    </tr>\n",
       "    <tr>\n",
       "      <th>3</th>\n",
       "      <td>0</td>\n",
       "      <td>0</td>\n",
       "      <td>0</td>\n",
       "      <td>0</td>\n",
       "      <td>0</td>\n",
       "      <td>0</td>\n",
       "      <td>1</td>\n",
       "    </tr>\n",
       "    <tr>\n",
       "      <th>4</th>\n",
       "      <td>0</td>\n",
       "      <td>0</td>\n",
       "      <td>0</td>\n",
       "      <td>0</td>\n",
       "      <td>0</td>\n",
       "      <td>0</td>\n",
       "      <td>1</td>\n",
       "    </tr>\n",
       "  </tbody>\n",
       "</table>\n",
       "</div>"
      ],
      "text/plain": [
       "   type_1  type_Movie  type_Music  type_ONA  type_OVA  type_Special  type_TV\n",
       "0       0           1           0         0         0             0        0\n",
       "1       0           0           0         0         0             0        1\n",
       "2       0           0           0         0         0             0        1\n",
       "3       0           0           0         0         0             0        1\n",
       "4       0           0           0         0         0             0        1"
      ]
     },
     "execution_count": 11,
     "metadata": {},
     "output_type": "execute_result"
    }
   ],
   "source": [
    "pd.get_dummies(anime[[\"type\"]]).head()"
   ]
  },
  {
   "cell_type": "code",
   "execution_count": 12,
   "metadata": {
    "_cell_guid": "820faf27-4518-942e-baeb-3a0c8063e961",
    "_execution_state": "idle",
    "_uuid": "c2878723287846c16ad6c7fd7bde4f6b036ff668"
   },
   "outputs": [],
   "source": [
    "anime[\"members\"] = anime[\"members\"].astype(float)"
   ]
  },
  {
   "cell_type": "markdown",
   "metadata": {
    "_cell_guid": "0239509d-b301-aca0-99de-17007f059f93",
    "_uuid": "460e49ed59fc87c6c9a15df9647cff1d37d39ca3"
   },
   "source": [
    "# Feature Selection and Preprocessing\n",
    "\n"
   ]
  },
  {
   "cell_type": "code",
   "execution_count": 13,
   "metadata": {
    "_cell_guid": "46e9f1ac-58cf-c45b-6ba5-84db30efbe0d",
    "_execution_state": "idle",
    "_uuid": "7effd0db3a788b5d2703dfb62aabfd0d2392f844"
   },
   "outputs": [],
   "source": [
    "anime_features = pd.concat([anime[\"genre\"].str.get_dummies(sep=\",\"),pd.get_dummies(anime[[\"type\"]]),anime[[\"rating\"]],anime[[\"members\"]],anime[\"episodes\"]],axis=1)"
   ]
  },
  {
   "cell_type": "code",
   "execution_count": 14,
   "metadata": {
    "_cell_guid": "4caf495a-e65b-8328-7c9c-ba46d546f648",
    "_execution_state": "idle",
    "_uuid": "b2f25102b51d3ebc161cef5cc57038d10462e1b3"
   },
   "outputs": [],
   "source": [
    "anime[\"name\"] = anime[\"name\"].map(lambda name:re.sub('[^A-Za-z0-9]+', \" \", name))"
   ]
  },
  {
   "cell_type": "code",
   "execution_count": 15,
   "metadata": {
    "_cell_guid": "be5d6264-392c-4801-f0ec-ba1a70f51fa0",
    "_execution_state": "idle",
    "_uuid": "d17fe5c0d3a5777801831f04a2323454c107ebe5"
   },
   "outputs": [
    {
     "data": {
      "text/html": [
       "<div>\n",
       "<style scoped>\n",
       "    .dataframe tbody tr th:only-of-type {\n",
       "        vertical-align: middle;\n",
       "    }\n",
       "\n",
       "    .dataframe tbody tr th {\n",
       "        vertical-align: top;\n",
       "    }\n",
       "\n",
       "    .dataframe thead th {\n",
       "        text-align: right;\n",
       "    }\n",
       "</style>\n",
       "<table border=\"1\" class=\"dataframe\">\n",
       "  <thead>\n",
       "    <tr style=\"text-align: right;\">\n",
       "      <th></th>\n",
       "      <th>Adventure</th>\n",
       "      <th>Cars</th>\n",
       "      <th>Comedy</th>\n",
       "      <th>Dementia</th>\n",
       "      <th>Demons</th>\n",
       "      <th>Drama</th>\n",
       "      <th>Ecchi</th>\n",
       "      <th>Fantasy</th>\n",
       "      <th>Game</th>\n",
       "      <th>Harem</th>\n",
       "      <th>...</th>\n",
       "      <th>type_1</th>\n",
       "      <th>type_Movie</th>\n",
       "      <th>type_Music</th>\n",
       "      <th>type_ONA</th>\n",
       "      <th>type_OVA</th>\n",
       "      <th>type_Special</th>\n",
       "      <th>type_TV</th>\n",
       "      <th>rating</th>\n",
       "      <th>members</th>\n",
       "      <th>episodes</th>\n",
       "    </tr>\n",
       "  </thead>\n",
       "  <tbody>\n",
       "    <tr>\n",
       "      <th>0</th>\n",
       "      <td>0</td>\n",
       "      <td>0</td>\n",
       "      <td>0</td>\n",
       "      <td>0</td>\n",
       "      <td>0</td>\n",
       "      <td>0</td>\n",
       "      <td>0</td>\n",
       "      <td>0</td>\n",
       "      <td>0</td>\n",
       "      <td>0</td>\n",
       "      <td>...</td>\n",
       "      <td>0</td>\n",
       "      <td>1</td>\n",
       "      <td>0</td>\n",
       "      <td>0</td>\n",
       "      <td>0</td>\n",
       "      <td>0</td>\n",
       "      <td>0</td>\n",
       "      <td>9.37</td>\n",
       "      <td>200630.0</td>\n",
       "      <td>1</td>\n",
       "    </tr>\n",
       "    <tr>\n",
       "      <th>1</th>\n",
       "      <td>1</td>\n",
       "      <td>0</td>\n",
       "      <td>0</td>\n",
       "      <td>0</td>\n",
       "      <td>0</td>\n",
       "      <td>1</td>\n",
       "      <td>0</td>\n",
       "      <td>1</td>\n",
       "      <td>0</td>\n",
       "      <td>0</td>\n",
       "      <td>...</td>\n",
       "      <td>0</td>\n",
       "      <td>0</td>\n",
       "      <td>0</td>\n",
       "      <td>0</td>\n",
       "      <td>0</td>\n",
       "      <td>0</td>\n",
       "      <td>1</td>\n",
       "      <td>9.26</td>\n",
       "      <td>793665.0</td>\n",
       "      <td>64</td>\n",
       "    </tr>\n",
       "    <tr>\n",
       "      <th>2</th>\n",
       "      <td>0</td>\n",
       "      <td>0</td>\n",
       "      <td>1</td>\n",
       "      <td>0</td>\n",
       "      <td>0</td>\n",
       "      <td>0</td>\n",
       "      <td>0</td>\n",
       "      <td>0</td>\n",
       "      <td>0</td>\n",
       "      <td>0</td>\n",
       "      <td>...</td>\n",
       "      <td>0</td>\n",
       "      <td>0</td>\n",
       "      <td>0</td>\n",
       "      <td>0</td>\n",
       "      <td>0</td>\n",
       "      <td>0</td>\n",
       "      <td>1</td>\n",
       "      <td>9.25</td>\n",
       "      <td>114262.0</td>\n",
       "      <td>51</td>\n",
       "    </tr>\n",
       "    <tr>\n",
       "      <th>3</th>\n",
       "      <td>0</td>\n",
       "      <td>0</td>\n",
       "      <td>0</td>\n",
       "      <td>0</td>\n",
       "      <td>0</td>\n",
       "      <td>0</td>\n",
       "      <td>0</td>\n",
       "      <td>0</td>\n",
       "      <td>0</td>\n",
       "      <td>0</td>\n",
       "      <td>...</td>\n",
       "      <td>0</td>\n",
       "      <td>0</td>\n",
       "      <td>0</td>\n",
       "      <td>0</td>\n",
       "      <td>0</td>\n",
       "      <td>0</td>\n",
       "      <td>1</td>\n",
       "      <td>9.17</td>\n",
       "      <td>673572.0</td>\n",
       "      <td>24</td>\n",
       "    </tr>\n",
       "    <tr>\n",
       "      <th>4</th>\n",
       "      <td>0</td>\n",
       "      <td>0</td>\n",
       "      <td>1</td>\n",
       "      <td>0</td>\n",
       "      <td>0</td>\n",
       "      <td>0</td>\n",
       "      <td>0</td>\n",
       "      <td>0</td>\n",
       "      <td>0</td>\n",
       "      <td>0</td>\n",
       "      <td>...</td>\n",
       "      <td>0</td>\n",
       "      <td>0</td>\n",
       "      <td>0</td>\n",
       "      <td>0</td>\n",
       "      <td>0</td>\n",
       "      <td>0</td>\n",
       "      <td>1</td>\n",
       "      <td>9.16</td>\n",
       "      <td>151266.0</td>\n",
       "      <td>51</td>\n",
       "    </tr>\n",
       "  </tbody>\n",
       "</table>\n",
       "<p>5 rows × 93 columns</p>\n",
       "</div>"
      ],
      "text/plain": [
       "    Adventure   Cars   Comedy   Dementia   Demons   Drama   Ecchi   Fantasy  \\\n",
       "0           0      0        0          0        0       0       0         0   \n",
       "1           1      0        0          0        0       1       0         1   \n",
       "2           0      0        1          0        0       0       0         0   \n",
       "3           0      0        0          0        0       0       0         0   \n",
       "4           0      0        1          0        0       0       0         0   \n",
       "\n",
       "    Game   Harem  ...  type_1  type_Movie  type_Music  type_ONA  type_OVA  \\\n",
       "0      0       0  ...       0           1           0         0         0   \n",
       "1      0       0  ...       0           0           0         0         0   \n",
       "2      0       0  ...       0           0           0         0         0   \n",
       "3      0       0  ...       0           0           0         0         0   \n",
       "4      0       0  ...       0           0           0         0         0   \n",
       "\n",
       "   type_Special  type_TV  rating   members  episodes  \n",
       "0             0        0    9.37  200630.0         1  \n",
       "1             0        1    9.26  793665.0        64  \n",
       "2             0        1    9.25  114262.0        51  \n",
       "3             0        1    9.17  673572.0        24  \n",
       "4             0        1    9.16  151266.0        51  \n",
       "\n",
       "[5 rows x 93 columns]"
      ]
     },
     "execution_count": 15,
     "metadata": {},
     "output_type": "execute_result"
    }
   ],
   "source": [
    "anime_features.head()"
   ]
  },
  {
   "cell_type": "code",
   "execution_count": 16,
   "metadata": {
    "_cell_guid": "a15f6554-c164-ffcb-ac58-88448c4f8ee0",
    "_execution_state": "idle",
    "_uuid": "2ff8f09e4d9e4169ee64092e4b060b0145c59f9f"
   },
   "outputs": [
    {
     "data": {
      "text/plain": [
       "Index([' Adventure', ' Cars', ' Comedy', ' Dementia', ' Demons', ' Drama',\n",
       "       ' Ecchi', ' Fantasy', ' Game', ' Harem', ' Hentai', ' Historical',\n",
       "       ' Horror', ' Josei', ' Kids', ' Magic', ' Martial Arts', ' Mecha',\n",
       "       ' Military', ' Music', ' Mystery', ' Parody', ' Police',\n",
       "       ' Psychological', ' Romance', ' Samurai', ' School', ' Sci-Fi',\n",
       "       ' Seinen', ' Shoujo', ' Shoujo Ai', ' Shounen', ' Shounen Ai',\n",
       "       ' Slice of Life', ' Space', ' Sports', ' Super Power', ' Supernatural',\n",
       "       ' Thriller', ' Vampire', ' Yaoi', ' Yuri', '1', 'Action', 'Adventure',\n",
       "       'Cars', 'Comedy', 'Dementia', 'Demons', 'Drama', 'Ecchi', 'Fantasy',\n",
       "       'Game', 'Harem', 'Hentai', 'Historical', 'Horror', 'Josei', 'Kids',\n",
       "       'Magic', 'Martial Arts', 'Mecha', 'Military', 'Music', 'Mystery',\n",
       "       'Parody', 'Police', 'Psychological', 'Romance', 'Samurai', 'School',\n",
       "       'Sci-Fi', 'Seinen', 'Shoujo', 'Shounen', 'Slice of Life', 'Space',\n",
       "       'Sports', 'Super Power', 'Supernatural', 'Thriller', 'Vampire', 'Yaoi',\n",
       "       'type_1', 'type_Movie', 'type_Music', 'type_ONA', 'type_OVA',\n",
       "       'type_Special', 'type_TV', 'rating', 'members', 'episodes'],\n",
       "      dtype='object')"
      ]
     },
     "execution_count": 16,
     "metadata": {},
     "output_type": "execute_result"
    }
   ],
   "source": [
    "anime_features.columns"
   ]
  },
  {
   "cell_type": "code",
   "execution_count": 17,
   "metadata": {
    "_cell_guid": "03c2b28e-9609-96a3-8c67-0ede63d8270f",
    "_execution_state": "idle",
    "_uuid": "60d550b307639949b7938ebc2cf0b8888c96e1ac"
   },
   "outputs": [],
   "source": [
    "from sklearn.preprocessing import MaxAbsScaler"
   ]
  },
  {
   "cell_type": "code",
   "execution_count": 18,
   "metadata": {
    "_cell_guid": "c3df9ae1-acdc-d332-68af-31209e1e105b",
    "_execution_state": "idle",
    "_uuid": "affd64d46ab214a3645075840db019b9bcf1dee0"
   },
   "outputs": [],
   "source": [
    "max_abs_scaler = MaxAbsScaler()\n",
    "anime_features = max_abs_scaler.fit_transform(anime_features)"
   ]
  },
  {
   "cell_type": "markdown",
   "metadata": {
    "_cell_guid": "4750141f-2426-2df0-c799-8353cc20d6d8",
    "_uuid": "0575cc6dc1905a752eb7ed57531b4ae9a95ce2e7"
   },
   "source": [
    "# KNN for finding similar animes"
   ]
  },
  {
   "cell_type": "code",
   "execution_count": 19,
   "metadata": {
    "_cell_guid": "a6b43f39-98a6-bf5d-9161-eacad0b88724",
    "_execution_state": "idle",
    "_uuid": "91d4e2d7d92e511b529b2805472ceedb8a90332e"
   },
   "outputs": [],
   "source": [
    "from sklearn.neighbors import NearestNeighbors"
   ]
  },
  {
   "cell_type": "code",
   "execution_count": 20,
   "metadata": {
    "_cell_guid": "2ed20de9-e2a9-f5f1-ebce-f1bfb8535a72",
    "_execution_state": "idle",
    "_uuid": "a4ed77cbcab100e74a9b917bd726a2cbd14e901d"
   },
   "outputs": [],
   "source": [
    "nbrs = NearestNeighbors(n_neighbors=6, algorithm='ball_tree').fit(anime_features)"
   ]
  },
  {
   "cell_type": "code",
   "execution_count": 21,
   "metadata": {
    "_cell_guid": "22453726-49fa-1314-5b60-2abd182a2c7b",
    "_execution_state": "idle",
    "_uuid": "d80da64f390bc24664dbc2a8330fc727b43c8f91"
   },
   "outputs": [],
   "source": [
    "distances, indices = nbrs.kneighbors(anime_features)"
   ]
  },
  {
   "cell_type": "markdown",
   "metadata": {
    "_cell_guid": "3c110c65-6c5d-6b43-51ff-21ae6629fd3c",
    "_uuid": "318d84ae3cf10564d83031ced1451d36b41b8aeb"
   },
   "source": [
    "# Query examples and helper functions "
   ]
  },
  {
   "cell_type": "code",
   "execution_count": 22,
   "metadata": {
    "_cell_guid": "5b52cb95-5d63-7da2-c40e-9e5845e5d2c9",
    "_execution_state": "idle",
    "_uuid": "615d3e1db5517d400309db5d574eeafb1fcaac88"
   },
   "outputs": [],
   "source": [
    "def get_index_from_name(name):\n",
    "    return anime[anime[\"name\"]==name].index.tolist()[0]\n",
    "    "
   ]
  },
  {
   "cell_type": "code",
   "execution_count": 23,
   "metadata": {
    "_cell_guid": "38f407f6-00b4-8369-e51f-9e2d701a274e",
    "_execution_state": "idle",
    "_uuid": "c8b33933f46aa803c6977dab81fa683b36531935"
   },
   "outputs": [
    {
     "data": {
      "text/plain": [
       "841"
      ]
     },
     "execution_count": 23,
     "metadata": {},
     "output_type": "execute_result"
    }
   ],
   "source": [
    "get_index_from_name(\"Naruto\")"
   ]
  },
  {
   "cell_type": "code",
   "execution_count": 24,
   "metadata": {
    "_cell_guid": "e915d77a-2f2a-d2e2-3d20-d9ee6dae15f4",
    "_execution_state": "idle",
    "_uuid": "269b56f7bd20afe6853418dcd3af7dfd3a88d8ec"
   },
   "outputs": [],
   "source": [
    "all_anime_names = list(anime.name.values)"
   ]
  },
  {
   "cell_type": "code",
   "execution_count": 25,
   "metadata": {
    "_cell_guid": "e483caf0-8649-136d-80f1-58ddc5203e48",
    "_execution_state": "idle",
    "_uuid": "00b3ce2d1ea7e9482db4b76aff9f21897a0aaf82"
   },
   "outputs": [],
   "source": [
    "def get_id_from_partial_name(partial):\n",
    "    for name in all_anime_names:\n",
    "        if partial in name:\n",
    "            print(name,all_anime_names.index(name))"
   ]
  },
  {
   "cell_type": "code",
   "execution_count": 26,
   "metadata": {
    "_cell_guid": "97c389f8-4b5c-64eb-496e-02ed661b4378",
    "_execution_state": "idle",
    "_uuid": "e5de5f1bcf806ceeccb1514d9c13563b34336dde"
   },
   "outputs": [],
   "source": [
    "\"\"\" print_similar_query can search for similar animes both by id and by name. \"\"\"\n",
    "\n",
    "def print_similar_animes(query=None,id=None):\n",
    "    if id:\n",
    "        for id in indices[id][1:]:\n",
    "            print(anime.iloc[id][\"name\"])\n",
    "    if query:\n",
    "        found_id = get_index_from_name(query)\n",
    "        for id in indices[found_id][1:]:\n",
    "            print(anime.iloc[id][\"name\"])"
   ]
  },
  {
   "cell_type": "markdown",
   "metadata": {
    "_cell_guid": "53d59815-7adb-f386-1a3d-99100e6bb5bb",
    "_uuid": "953b4d8d2469c0f4715094fd53b224197e53e403"
   },
   "source": [
    "# Model Prediction\n",
    "## Here Similar anime prints anime which are same in genre and type."
   ]
  },
  {
   "cell_type": "code",
   "execution_count": 27,
   "metadata": {
    "_cell_guid": "41b89978-58e4-84c9-232d-7272e33cfd91",
    "_execution_state": "idle",
    "_uuid": "c602dc5e450ff9d1cc37e932f163a310bdf40da2"
   },
   "outputs": [
    {
     "name": "stdout",
     "output_type": "stream",
     "text": [
      "Naruto Shippuuden\n",
      "Katekyo Hitman Reborn \n",
      "Bleach\n",
      "Dragon Ball Z\n",
      "Boku no Hero Academia\n"
     ]
    }
   ],
   "source": [
    "print_similar_animes(query=\"Naruto\")"
   ]
  },
  {
   "cell_type": "code",
   "execution_count": 28,
   "metadata": {
    "_cell_guid": "40e1210f-5325-f9ce-1450-37995989e54b",
    "_execution_state": "idle",
    "_uuid": "e3eaeda254b846e7401d55c045b6484cb206c862"
   },
   "outputs": [
    {
     "name": "stdout",
     "output_type": "stream",
     "text": [
      "Noragami Aragoto\n",
      "JoJo no Kimyou na Bouken TV \n",
      "JoJo no Kimyou na Bouken Stardust Crusaders\n",
      "JoJo no Kimyou na Bouken Stardust Crusaders 2nd Season\n",
      "Yumekui Merry\n"
     ]
    }
   ],
   "source": [
    "print_similar_animes(\"Noragami\")"
   ]
  },
  {
   "cell_type": "code",
   "execution_count": 29,
   "metadata": {
    "_cell_guid": "3ac58ce1-2be8-0769-53cd-faaa05c44891",
    "_execution_state": "idle",
    "_uuid": "34c3d4a5b06e8dc4d5f58a0c4412d0c0bd5c0eb6"
   },
   "outputs": [
    {
     "name": "stdout",
     "output_type": "stream",
     "text": [
      "Mushishi Zoku Shou\n",
      "Mushishi Zoku Shou 2nd Season\n",
      "Mushishi Special Hihamukage\n",
      "Mushishi Zoku Shou Odoro no Michi\n",
      "Mushishi Zoku Shou Suzu no Shizuku\n"
     ]
    }
   ],
   "source": [
    "print_similar_animes(\"Mushishi\")"
   ]
  },
  {
   "cell_type": "code",
   "execution_count": 30,
   "metadata": {
    "_cell_guid": "36fa151f-ccc6-6893-7a3c-ca4d9a94e90b",
    "_execution_state": "idle",
    "_uuid": "0e2d2d9ea5cce9d0495817875fc29a8845025302"
   },
   "outputs": [
    {
     "name": "stdout",
     "output_type": "stream",
     "text": [
      "Gintama 039 \n",
      "Gintama \n",
      "Gintama 039 Enchousen\n",
      "Gintama 2017 \n",
      "Gintama Movie Kanketsu hen Yorozuya yo Eien Nare\n"
     ]
    }
   ],
   "source": [
    "print_similar_animes(\"Gintama\")"
   ]
  },
  {
   "cell_type": "code",
   "execution_count": 31,
   "metadata": {
    "_cell_guid": "39272768-a4d0-db4c-6622-dc9161ead78a",
    "_execution_state": "idle",
    "_uuid": "f5ad63dceb08bdce44f63984ed43ddabc5dfc59d"
   },
   "outputs": [
    {
     "name": "stdout",
     "output_type": "stream",
     "text": [
      "Fairy Tail 2014 \n",
      "Magi The Labyrinth of Magic\n",
      "Magi The Kingdom of Magic\n",
      "Densetsu no Yuusha no Densetsu\n",
      "Magi Sinbad no Bouken TV \n"
     ]
    }
   ],
   "source": [
    "print_similar_animes(\"Fairy Tail\")"
   ]
  },
  {
   "cell_type": "code",
   "execution_count": 32,
   "metadata": {
    "_cell_guid": "f3a90eb4-31d8-46a0-1351-fd87f1baaf26",
    "_execution_state": "idle",
    "_uuid": "3c30b0eb9d89de8105f43af7e06c4d75aeb5a805"
   },
   "outputs": [
    {
     "name": "stdout",
     "output_type": "stream",
     "text": [
      "Boruto Naruto the Movie 486\n",
      "Naruto Shippuuden 615\n",
      "The Last Naruto the Movie 719\n",
      "Naruto Shippuuden Movie 6 Road to Ninja 784\n",
      "Naruto 841\n",
      "Boruto Naruto the Movie Naruto ga Hokage ni Natta Hi 1103\n",
      "Naruto Shippuuden Movie 5 Blood Prison 1237\n",
      "Naruto x UT 1343\n",
      "Naruto Shippuuden Movie 4 The Lost Tower 1472\n",
      "Naruto Shippuuden Movie 3 Hi no Ishi wo Tsugu Mono 1573\n",
      "Naruto Shippuuden Movie 1 1827\n",
      "Naruto Shippuuden Movie 2 Kizuna 1828\n",
      "Naruto Shippuuden Shippuu quot Konoha Gakuen quot Den 2374\n",
      "Naruto Honoo no Chuunin Shiken Naruto vs Konohamaru  2416\n",
      "Naruto SD Rock Lee no Seishun Full Power Ninden 2457\n",
      "Naruto Shippuuden Sunny Side Battle 2458\n",
      "Naruto Movie 1 Dai Katsugeki Yuki Hime Shinobu Houjou Dattebayo  2756\n",
      "Naruto Soyokazeden Movie Naruto to Mashin to Mitsu no Onegai Dattebayo  2997\n",
      "Naruto Movie 2 Dai Gekitotsu Maboroshi no Chiteiiseki Dattebayo  3449\n",
      "Naruto Dai Katsugeki Yuki Hime Shinobu Houjou Dattebayo Special Konoha Annual Sports Festival 3529\n",
      "Naruto Movie 3 Dai Koufun Mikazuki Jima no Animaru Panikku Dattebayo  3560\n",
      "Naruto The Cross Roads 3561\n",
      "Naruto Narutimate Hero 3 Tsuini Gekitotsu Jounin vs Genin Musabetsu Dairansen taikai Kaisai  3838\n",
      "Naruto Takigakure no Shitou Ore ga Eiyuu Dattebayo  3984\n",
      "Naruto Akaki Yotsuba no Clover wo Sagase 5111\n"
     ]
    }
   ],
   "source": [
    "get_id_from_partial_name(\"Naruto\")"
   ]
  },
  {
   "cell_type": "code",
   "execution_count": 34,
   "metadata": {
    "_cell_guid": "3c143a71-91bc-d72d-af15-611c146e2a16",
    "_execution_state": "idle",
    "_uuid": "e83d0d62ff85c3bd1b89f61da584ee5fd4b7c95b"
   },
   "outputs": [
    {
     "name": "stdout",
     "output_type": "stream",
     "text": [
      "Kokoro ga Sakebitagatterunda \n",
      "Harmonie\n",
      "Air Movie\n",
      "Hotarubi no Mori e\n",
      "Clannad Movie\n"
     ]
    }
   ],
   "source": [
    "print_similar_animes(\"Kimi no Na wa \")"
   ]
  }
 ],
 "metadata": {
  "_change_revision": 0,
  "_is_fork": false,
  "kernelspec": {
   "display_name": "Python 3",
   "language": "python",
   "name": "python3"
  },
  "language_info": {
   "codemirror_mode": {
    "name": "ipython",
    "version": 3
   },
   "file_extension": ".py",
   "mimetype": "text/x-python",
   "name": "python",
   "nbconvert_exporter": "python",
   "pygments_lexer": "ipython3",
   "version": "3.8.2"
  }
 },
 "nbformat": 4,
 "nbformat_minor": 1
}
