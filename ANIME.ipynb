{
 "cells": [
  {
   "cell_type": "markdown",
   "metadata": {},
   "source": [
    "## ANIME RECOMMENDATION SYSTEM"
   ]
  },
  {
   "cell_type": "code",
   "execution_count": 1,
   "metadata": {
    "_cell_guid": "7eb17329-b0b8-4f4e-9d65-0e1ae405fc8f",
    "_uuid": "81751117b205ae03fac78ce31e45e6b9f35f312c",
    "collapsed": true
   },
   "outputs": [],
   "source": [
    "import numpy as np\n",
    "import pandas as pd\n",
    "import matplotlib.pyplot as plt\n",
    "import seaborn as sns\n",
    "sns.set_style('whitegrid')\n",
    "%matplotlib inline"
   ]
  },
  {
   "cell_type": "code",
   "execution_count": 2,
   "metadata": {
    "_cell_guid": "0a3b0f2f-7717-4b24-bedc-6ef3ba4aeb2d",
    "_uuid": "a237bb9da247818ee7163e039525707ec8461c68",
    "collapsed": true
   },
   "outputs": [],
   "source": [
    "df = pd.read_csv('rating.csv')"
   ]
  },
  {
   "cell_type": "code",
   "execution_count": 3,
   "metadata": {
    "_cell_guid": "a4bdf658-9946-4fc4-9216-550195533bbd",
    "_uuid": "775a23a51b6e990e43aabf832ccdef19297c3fe5",
    "collapsed": true
   },
   "outputs": [],
   "source": [
    "anime = pd.read_csv('anime.csv')"
   ]
  },
  {
   "cell_type": "markdown",
   "metadata": {},
   "source": [
    "## Merging two dataset"
   ]
  },
  {
   "cell_type": "code",
   "execution_count": 4,
   "metadata": {
    "_cell_guid": "828dbd6a-a108-4ae4-9c92-8fe341a8774f",
    "_uuid": "bf2dc05b99466edee2699aa5e170b8eeceeca2f2",
    "collapsed": true
   },
   "outputs": [],
   "source": [
    "df = pd.merge(df,anime.drop('rating',axis=1),on='anime_id')"
   ]
  },
  {
   "cell_type": "code",
   "execution_count": 5,
   "metadata": {
    "_cell_guid": "30e57261-eec0-42dd-a628-69fe4fff586d",
    "_uuid": "6d52f013f7cee80da45317efa663cc667bf8e082"
   },
   "outputs": [
    {
     "data": {
      "text/html": [
       "<div>\n",
       "<style>\n",
       "    .dataframe thead tr:only-child th {\n",
       "        text-align: right;\n",
       "    }\n",
       "\n",
       "    .dataframe thead th {\n",
       "        text-align: left;\n",
       "    }\n",
       "\n",
       "    .dataframe tbody tr th {\n",
       "        vertical-align: top;\n",
       "    }\n",
       "</style>\n",
       "<table border=\"1\" class=\"dataframe\">\n",
       "  <thead>\n",
       "    <tr style=\"text-align: right;\">\n",
       "      <th></th>\n",
       "      <th>user_id</th>\n",
       "      <th>anime_id</th>\n",
       "      <th>rating</th>\n",
       "      <th>name</th>\n",
       "      <th>genre</th>\n",
       "      <th>type</th>\n",
       "      <th>episodes</th>\n",
       "      <th>members</th>\n",
       "    </tr>\n",
       "  </thead>\n",
       "  <tbody>\n",
       "    <tr>\n",
       "      <th>0</th>\n",
       "      <td>1</td>\n",
       "      <td>20</td>\n",
       "      <td>-1</td>\n",
       "      <td>Naruto</td>\n",
       "      <td>Action, Comedy, Martial Arts, Shounen, Super P...</td>\n",
       "      <td>TV</td>\n",
       "      <td>220</td>\n",
       "      <td>683297</td>\n",
       "    </tr>\n",
       "    <tr>\n",
       "      <th>1</th>\n",
       "      <td>3</td>\n",
       "      <td>20</td>\n",
       "      <td>8</td>\n",
       "      <td>Naruto</td>\n",
       "      <td>Action, Comedy, Martial Arts, Shounen, Super P...</td>\n",
       "      <td>TV</td>\n",
       "      <td>220</td>\n",
       "      <td>683297</td>\n",
       "    </tr>\n",
       "    <tr>\n",
       "      <th>2</th>\n",
       "      <td>5</td>\n",
       "      <td>20</td>\n",
       "      <td>6</td>\n",
       "      <td>Naruto</td>\n",
       "      <td>Action, Comedy, Martial Arts, Shounen, Super P...</td>\n",
       "      <td>TV</td>\n",
       "      <td>220</td>\n",
       "      <td>683297</td>\n",
       "    </tr>\n",
       "    <tr>\n",
       "      <th>3</th>\n",
       "      <td>6</td>\n",
       "      <td>20</td>\n",
       "      <td>-1</td>\n",
       "      <td>Naruto</td>\n",
       "      <td>Action, Comedy, Martial Arts, Shounen, Super P...</td>\n",
       "      <td>TV</td>\n",
       "      <td>220</td>\n",
       "      <td>683297</td>\n",
       "    </tr>\n",
       "    <tr>\n",
       "      <th>4</th>\n",
       "      <td>10</td>\n",
       "      <td>20</td>\n",
       "      <td>-1</td>\n",
       "      <td>Naruto</td>\n",
       "      <td>Action, Comedy, Martial Arts, Shounen, Super P...</td>\n",
       "      <td>TV</td>\n",
       "      <td>220</td>\n",
       "      <td>683297</td>\n",
       "    </tr>\n",
       "  </tbody>\n",
       "</table>\n",
       "</div>"
      ],
      "text/plain": [
       "   user_id  anime_id  rating    name  \\\n",
       "0        1        20      -1  Naruto   \n",
       "1        3        20       8  Naruto   \n",
       "2        5        20       6  Naruto   \n",
       "3        6        20      -1  Naruto   \n",
       "4       10        20      -1  Naruto   \n",
       "\n",
       "                                               genre type episodes  members  \n",
       "0  Action, Comedy, Martial Arts, Shounen, Super P...   TV      220   683297  \n",
       "1  Action, Comedy, Martial Arts, Shounen, Super P...   TV      220   683297  \n",
       "2  Action, Comedy, Martial Arts, Shounen, Super P...   TV      220   683297  \n",
       "3  Action, Comedy, Martial Arts, Shounen, Super P...   TV      220   683297  \n",
       "4  Action, Comedy, Martial Arts, Shounen, Super P...   TV      220   683297  "
      ]
     },
     "execution_count": 5,
     "metadata": {},
     "output_type": "execute_result"
    }
   ],
   "source": [
    "df.head()"
   ]
  },
  {
   "cell_type": "markdown",
   "metadata": {},
   "source": [
    "## Anime sorted by rating"
   ]
  },
  {
   "cell_type": "code",
   "execution_count": 6,
   "metadata": {
    "_cell_guid": "c386e337-f9a1-406b-8dfc-de5496acec64",
    "_uuid": "5eafae256070d8a4611c5aad16bb83f231914513"
   },
   "outputs": [
    {
     "data": {
      "text/plain": [
       "name\n",
       "Shiroi Zou                                                          10.000000\n",
       "Choegang Top Plate                                                  10.000000\n",
       "Warui no wo Taose!! Salaryman Man                                   10.000000\n",
       "STAR BEAT!: Hoshi no Kodou                                          10.000000\n",
       "Doukyuusei                                                           9.000000\n",
       "Yakushiji Ryouko no Kaiki Jikenbo: Hamachou, Voice &amp; Fiction     9.000000\n",
       "Shiranpuri                                                           9.000000\n",
       "Tang Lang Bu Chan                                                    9.000000\n",
       "Steins;Gate 0                                                        8.500000\n",
       "Kimi no Na wa.                                                       8.297863\n",
       "Name: rating, dtype: float64"
      ]
     },
     "execution_count": 6,
     "metadata": {},
     "output_type": "execute_result"
    }
   ],
   "source": [
    "df.groupby('name')['rating'].mean().sort_values(ascending=False).head(10)"
   ]
  },
  {
   "cell_type": "markdown",
   "metadata": {},
   "source": [
    "## Anime sorted by watching"
   ]
  },
  {
   "cell_type": "code",
   "execution_count": 7,
   "metadata": {
    "_cell_guid": "7120adce-7e63-44d7-aaa7-0e2532b2e9eb",
    "_uuid": "0d6ad31bf2dde2afb64dff0b214b096fa32cab75"
   },
   "outputs": [
    {
     "data": {
      "text/plain": [
       "name\n",
       "Death Note                          39340\n",
       "Sword Art Online                    30583\n",
       "Shingeki no Kyojin                  29584\n",
       "Code Geass: Hangyaku no Lelouch     27718\n",
       "Elfen Lied                          27506\n",
       "Angel Beats!                        27183\n",
       "Naruto                              25925\n",
       "Fullmetal Alchemist                 25032\n",
       "Fullmetal Alchemist: Brotherhood    24574\n",
       "Toradora!                           24283\n",
       "Name: rating, dtype: int64"
      ]
     },
     "execution_count": 7,
     "metadata": {},
     "output_type": "execute_result"
    }
   ],
   "source": [
    "df.groupby('name')['rating'].count().sort_values(ascending=False).head(10)"
   ]
  },
  {
   "cell_type": "markdown",
   "metadata": {},
   "source": [
    "## DATA ANALYSIS"
   ]
  },
  {
   "cell_type": "code",
   "execution_count": 8,
   "metadata": {
    "_cell_guid": "fe2de8e9-a356-4bd2-8723-ee21c0613c42",
    "_uuid": "a0d56f9c8eb8158d653456e3bd1f78b09f34277a",
    "collapsed": true
   },
   "outputs": [],
   "source": [
    "ratings = pd.DataFrame(df.groupby('name')['rating'].mean())\n",
    "ratings['num of ratings'] = pd.DataFrame(df.groupby('name')['rating'].count())\n",
    "\n",
    "genre_dict = pd.DataFrame(data=anime[['name','genre']])\n",
    "genre_dict.set_index('name',inplace=True)"
   ]
  },
  {
   "cell_type": "code",
   "execution_count": 9,
   "metadata": {
    "_cell_guid": "12c842f8-45cb-49f7-826c-0360960a3210",
    "_uuid": "447fe5a3b3aab04d8b8acd2755926dbdf42bb869"
   },
   "outputs": [
    {
     "data": {
      "text/html": [
       "<div>\n",
       "<style>\n",
       "    .dataframe thead tr:only-child th {\n",
       "        text-align: right;\n",
       "    }\n",
       "\n",
       "    .dataframe thead th {\n",
       "        text-align: left;\n",
       "    }\n",
       "\n",
       "    .dataframe tbody tr th {\n",
       "        vertical-align: top;\n",
       "    }\n",
       "</style>\n",
       "<table border=\"1\" class=\"dataframe\">\n",
       "  <thead>\n",
       "    <tr style=\"text-align: right;\">\n",
       "      <th></th>\n",
       "      <th>rating</th>\n",
       "      <th>num of ratings</th>\n",
       "    </tr>\n",
       "    <tr>\n",
       "      <th>name</th>\n",
       "      <th></th>\n",
       "      <th></th>\n",
       "    </tr>\n",
       "  </thead>\n",
       "  <tbody>\n",
       "    <tr>\n",
       "      <th>&amp;quot;0&amp;quot;</th>\n",
       "      <td>2.769231</td>\n",
       "      <td>26</td>\n",
       "    </tr>\n",
       "    <tr>\n",
       "      <th>&amp;quot;Aesop&amp;quot; no Ohanashi yori: Ushi to Kaeru, Yokubatta Inu</th>\n",
       "      <td>0.000000</td>\n",
       "      <td>2</td>\n",
       "    </tr>\n",
       "    <tr>\n",
       "      <th>&amp;quot;Bungaku Shoujo&amp;quot; Kyou no Oyatsu: Hatsukoi</th>\n",
       "      <td>5.774936</td>\n",
       "      <td>782</td>\n",
       "    </tr>\n",
       "    <tr>\n",
       "      <th>&amp;quot;Bungaku Shoujo&amp;quot; Memoire</th>\n",
       "      <td>6.155748</td>\n",
       "      <td>809</td>\n",
       "    </tr>\n",
       "    <tr>\n",
       "      <th>&amp;quot;Bungaku Shoujo&amp;quot; Movie</th>\n",
       "      <td>6.457980</td>\n",
       "      <td>1535</td>\n",
       "    </tr>\n",
       "  </tbody>\n",
       "</table>\n",
       "</div>"
      ],
      "text/plain": [
       "                                                      rating  num of ratings\n",
       "name                                                                        \n",
       "&quot;0&quot;                                       2.769231              26\n",
       "&quot;Aesop&quot; no Ohanashi yori: Ushi to Kae...  0.000000               2\n",
       "&quot;Bungaku Shoujo&quot; Kyou no Oyatsu: Hats...  5.774936             782\n",
       "&quot;Bungaku Shoujo&quot; Memoire                  6.155748             809\n",
       "&quot;Bungaku Shoujo&quot; Movie                    6.457980            1535"
      ]
     },
     "execution_count": 9,
     "metadata": {},
     "output_type": "execute_result"
    }
   ],
   "source": [
    "ratings.head()"
   ]
  },
  {
   "cell_type": "code",
   "execution_count": 10,
   "metadata": {
    "_cell_guid": "c8fa23c9-bb52-4bef-b3b8-6e3c2a8064e7",
    "_uuid": "8267e7a5f09d6c01fd3aa1e8384d116a5a6b35fb"
   },
   "outputs": [
    {
     "data": {
      "text/plain": [
       "(0, 3000)"
      ]
     },
     "execution_count": 10,
     "metadata": {},
     "output_type": "execute_result"
    },
    {
     "data": {
      "image/png": "[encoded data removed]",
      "text/plain": [
       "<matplotlib.figure.Figure at 0x7f511b9b03c8>"
      ]
     },
     "metadata": {},
     "output_type": "display_data"
    }
   ],
   "source": [
    "plt.figure(figsize=(15,5))\n",
    "ratings['num of ratings'].hist(bins=300)\n",
    "plt.xlim(0,3000)"
   ]
  },
  {
   "cell_type": "code",
   "execution_count": 11,
   "metadata": {
    "_cell_guid": "6212567f-326e-4af8-8e20-47502f6da6d9",
    "_uuid": "5f94352cf66ba71f27f974d46c414e91e50728cd"
   },
   "outputs": [
    {
     "data": {
      "text/plain": [
       "<matplotlib.axes._subplots.AxesSubplot at 0x7f5114cffbe0>"
      ]
     },
     "execution_count": 11,
     "metadata": {},
     "output_type": "execute_result"
    },
    {
     "data": {
      "image/png": "[encoded data removed]",
      "text/plain": [
       "<matplotlib.figure.Figure at 0x7f511b9b0940>"
      ]
     },
     "metadata": {},
     "output_type": "display_data"
    }
   ],
   "source": [
    "ratings['rating'].hist(bins=50)"
   ]
  },
  {
   "cell_type": "code",
   "execution_count": 12,
   "metadata": {
    "_cell_guid": "88c72bfe-89f6-4b02-8f40-3ec28f8d3958",
    "_uuid": "e5444ab0ea4df02a8645bcf8cf1b614932a00c4d"
   },
   "outputs": [
    {
     "data": {
      "text/plain": [
       "<seaborn.axisgrid.JointGrid at 0x7f511b9b0a20>"
      ]
     },
     "execution_count": 12,
     "metadata": {},
     "output_type": "execute_result"
    },
    {
     "data": {
      "image/png": "[encoded data removed]",
      "text/plain": [
       "<matplotlib.figure.Figure at 0x7f511b9b0a90>"
      ]
     },
     "metadata": {},
     "output_type": "display_data"
    }
   ],
   "source": [
    "sns.jointplot(x='rating',y='num of ratings',data=ratings)"
   ]
  },
  {
   "cell_type": "markdown",
   "metadata": {},
   "source": [
    "### Higher number of users give rating, higher chance of the anime gets high rating too."
   ]
  },
  {
   "cell_type": "markdown",
   "metadata": {},
   "source": [
    "## FUNCTION CREATION\n",
    "\n",
    "**Now I'll create the function to be executed when a user accessing an anime page on myanimelist, so that user can get the recommendation based on that anime. This recommendation will be generated based on ratings and genre**"
   ]
  },
  {
   "cell_type": "code",
   "execution_count": 13,
   "metadata": {
    "_cell_guid": "9b647fa0-6d87-4d8a-8b0e-d1a125b75f16",
    "_uuid": "b103df93997918a03731a5c2b45195f196ebe288",
    "collapsed": true
   },
   "outputs": [],
   "source": [
    "def check_genre(genre_list,string):\n",
    "    if any(x in string for x in genre_list):\n",
    "        return True\n",
    "    else:\n",
    "        return False\n",
    "    \n",
    "def get_recommendation(name):\n",
    "    #generating list of anime with the same genre with target\n",
    "    anime_genre = genre_dict.loc[name].values[0].split(', ')\n",
    "    cols = anime[anime['genre'].apply(\n",
    "        lambda x: check_genre(anime_genre,str(x)))]['name'].tolist()\n",
    "    \n",
    "    #create matrix based on generated list\n",
    "    animemat = df[df['name'].isin(cols)].pivot_table(\n",
    "        index='user_id',columns='name',values='rating')\n",
    "       \n",
    "    #create correlation table\n",
    "    anime_user_rating = animemat[name]\n",
    "    similiar_anime = animemat.corrwith(anime_user_rating)\n",
    "    corr_anime = pd.DataFrame(similiar_anime,columns=['correlation'])\n",
    "    corr_anime = corr_anime.join(ratings['num of ratings'])\n",
    "    corr_anime.dropna(inplace=True)\n",
    "    corr_anime = corr_anime[corr_anime['num of ratings']>5000].sort_values(\n",
    "        'correlation',ascending=False)\n",
    "    \n",
    "    return corr_anime.head(10)"
   ]
  },
  {
   "cell_type": "markdown",
   "metadata": {},
   "source": [
    "**PART 4. TESTING**"
   ]
  },
  {
   "cell_type": "code",
   "execution_count": 14,
   "metadata": {
    "_cell_guid": "5943fe51-1b4b-4da6-8931-082402d35c6c",
    "_uuid": "0b2a5a4a8f6760340f63c3cc2c1686a6afd1cc39",
    "scrolled": true
   },
   "outputs": [
    {
     "name": "stderr",
     "output_type": "stream",
     "text": [
      "/opt/conda/lib/python3.6/site-packages/numpy/lib/function_base.py:3154: RuntimeWarning: Degrees of freedom <= 0 for slice\n",
      "  c = cov(x, y, rowvar)\n",
      "/opt/conda/lib/python3.6/site-packages/numpy/lib/function_base.py:3088: RuntimeWarning: divide by zero encountered in double_scalars\n",
      "  c *= 1. / np.float64(fact)\n"
     ]
    },
    {
     "data": {
      "text/html": [
       "<div>\n",
       "<style>\n",
       "    .dataframe thead tr:only-child th {\n",
       "        text-align: right;\n",
       "    }\n",
       "\n",
       "    .dataframe thead th {\n",
       "        text-align: left;\n",
       "    }\n",
       "\n",
       "    .dataframe tbody tr th {\n",
       "        vertical-align: top;\n",
       "    }\n",
       "</style>\n",
       "<table border=\"1\" class=\"dataframe\">\n",
       "  <thead>\n",
       "    <tr style=\"text-align: right;\">\n",
       "      <th></th>\n",
       "      <th>correlation</th>\n",
       "      <th>num of ratings</th>\n",
       "    </tr>\n",
       "    <tr>\n",
       "      <th>name</th>\n",
       "      <th></th>\n",
       "      <th></th>\n",
       "    </tr>\n",
       "  </thead>\n",
       "  <tbody>\n",
       "    <tr>\n",
       "      <th>Shingeki no Kyojin</th>\n",
       "      <td>1.000000</td>\n",
       "      <td>29584</td>\n",
       "    </tr>\n",
       "    <tr>\n",
       "      <th>Suisei no Gargantia</th>\n",
       "      <td>0.752774</td>\n",
       "      <td>6371</td>\n",
       "    </tr>\n",
       "    <tr>\n",
       "      <th>Kami nomi zo Shiru Sekai: Megami-hen</th>\n",
       "      <td>0.750020</td>\n",
       "      <td>5733</td>\n",
       "    </tr>\n",
       "    <tr>\n",
       "      <th>Blood Lad</th>\n",
       "      <td>0.741779</td>\n",
       "      <td>8507</td>\n",
       "    </tr>\n",
       "    <tr>\n",
       "      <th>Hitsugi no Chaika</th>\n",
       "      <td>0.736769</td>\n",
       "      <td>5168</td>\n",
       "    </tr>\n",
       "    <tr>\n",
       "      <th>Maoyuu Maou Yuusha</th>\n",
       "      <td>0.732879</td>\n",
       "      <td>5693</td>\n",
       "    </tr>\n",
       "    <tr>\n",
       "      <th>Danganronpa: Kibou no Gakuen to Zetsubou no Koukousei The Animation</th>\n",
       "      <td>0.728270</td>\n",
       "      <td>10082</td>\n",
       "    </tr>\n",
       "    <tr>\n",
       "      <th>Magi: The Labyrinth of Magic</th>\n",
       "      <td>0.726442</td>\n",
       "      <td>9907</td>\n",
       "    </tr>\n",
       "    <tr>\n",
       "      <th>Psycho-Pass</th>\n",
       "      <td>0.726120</td>\n",
       "      <td>14008</td>\n",
       "    </tr>\n",
       "    <tr>\n",
       "      <th>Magi: The Kingdom of Magic</th>\n",
       "      <td>0.725571</td>\n",
       "      <td>7279</td>\n",
       "    </tr>\n",
       "  </tbody>\n",
       "</table>\n",
       "</div>"
      ],
      "text/plain": [
       "                                                    correlation  \\\n",
       "name                                                              \n",
       "Shingeki no Kyojin                                     1.000000   \n",
       "Suisei no Gargantia                                    0.752774   \n",
       "Kami nomi zo Shiru Sekai: Megami-hen                   0.750020   \n",
       "Blood Lad                                              0.741779   \n",
       "Hitsugi no Chaika                                      0.736769   \n",
       "Maoyuu Maou Yuusha                                     0.732879   \n",
       "Danganronpa: Kibou no Gakuen to Zetsubou no Kou...     0.728270   \n",
       "Magi: The Labyrinth of Magic                           0.726442   \n",
       "Psycho-Pass                                            0.726120   \n",
       "Magi: The Kingdom of Magic                             0.725571   \n",
       "\n",
       "                                                    num of ratings  \n",
       "name                                                                \n",
       "Shingeki no Kyojin                                           29584  \n",
       "Suisei no Gargantia                                           6371  \n",
       "Kami nomi zo Shiru Sekai: Megami-hen                          5733  \n",
       "Blood Lad                                                     8507  \n",
       "Hitsugi no Chaika                                             5168  \n",
       "Maoyuu Maou Yuusha                                            5693  \n",
       "Danganronpa: Kibou no Gakuen to Zetsubou no Kou...           10082  \n",
       "Magi: The Labyrinth of Magic                                  9907  \n",
       "Psycho-Pass                                                  14008  \n",
       "Magi: The Kingdom of Magic                                    7279  "
      ]
     },
     "execution_count": 14,
     "metadata": {},
     "output_type": "execute_result"
    }
   ],
   "source": [
    "get_recommendation('Shingeki no Kyojin')"
   ]
  },
  {
   "cell_type": "code",
   "execution_count": 15,
   "metadata": {
    "_cell_guid": "321c94eb-103b-44a0-a050-a61c41ec5318",
    "_uuid": "72632aa34abd653a5ac8937080553736344d8d53"
   },
   "outputs": [
    {
     "name": "stderr",
     "output_type": "stream",
     "text": [
      "/opt/conda/lib/python3.6/site-packages/numpy/lib/function_base.py:3154: RuntimeWarning: Degrees of freedom <= 0 for slice\n",
      "  c = cov(x, y, rowvar)\n",
      "/opt/conda/lib/python3.6/site-packages/numpy/lib/function_base.py:3088: RuntimeWarning: divide by zero encountered in double_scalars\n",
      "  c *= 1. / np.float64(fact)\n"
     ]
    },
    {
     "data": {
      "text/html": [
       "<div>\n",
       "<style>\n",
       "    .dataframe thead tr:only-child th {\n",
       "        text-align: right;\n",
       "    }\n",
       "\n",
       "    .dataframe thead th {\n",
       "        text-align: left;\n",
       "    }\n",
       "\n",
       "    .dataframe tbody tr th {\n",
       "        vertical-align: top;\n",
       "    }\n",
       "</style>\n",
       "<table border=\"1\" class=\"dataframe\">\n",
       "  <thead>\n",
       "    <tr style=\"text-align: right;\">\n",
       "      <th></th>\n",
       "      <th>correlation</th>\n",
       "      <th>num of ratings</th>\n",
       "    </tr>\n",
       "    <tr>\n",
       "      <th>name</th>\n",
       "      <th></th>\n",
       "      <th></th>\n",
       "    </tr>\n",
       "  </thead>\n",
       "  <tbody>\n",
       "    <tr>\n",
       "      <th>Beelzebub</th>\n",
       "      <td>0.710506</td>\n",
       "      <td>5871</td>\n",
       "    </tr>\n",
       "    <tr>\n",
       "      <th>Amagami SS</th>\n",
       "      <td>0.705351</td>\n",
       "      <td>5497</td>\n",
       "    </tr>\n",
       "    <tr>\n",
       "      <th>Bakuman. 2nd Season</th>\n",
       "      <td>0.677092</td>\n",
       "      <td>6164</td>\n",
       "    </tr>\n",
       "    <tr>\n",
       "      <th>Re:Zero kara Hajimeru Isekai Seikatsu</th>\n",
       "      <td>0.671666</td>\n",
       "      <td>6123</td>\n",
       "    </tr>\n",
       "    <tr>\n",
       "      <th>Boku no Hero Academia</th>\n",
       "      <td>0.669247</td>\n",
       "      <td>6034</td>\n",
       "    </tr>\n",
       "    <tr>\n",
       "      <th>Shigatsu wa Kimi no Uso</th>\n",
       "      <td>0.667975</td>\n",
       "      <td>9448</td>\n",
       "    </tr>\n",
       "    <tr>\n",
       "      <th>Dance in the Vampire Bund</th>\n",
       "      <td>0.667899</td>\n",
       "      <td>5174</td>\n",
       "    </tr>\n",
       "    <tr>\n",
       "      <th>Princess Lover!</th>\n",
       "      <td>0.665735</td>\n",
       "      <td>5005</td>\n",
       "    </tr>\n",
       "    <tr>\n",
       "      <th>Eureka Seven</th>\n",
       "      <td>0.665077</td>\n",
       "      <td>7851</td>\n",
       "    </tr>\n",
       "    <tr>\n",
       "      <th>Ansatsu Kyoushitsu (TV)</th>\n",
       "      <td>0.661141</td>\n",
       "      <td>6441</td>\n",
       "    </tr>\n",
       "  </tbody>\n",
       "</table>\n",
       "</div>"
      ],
      "text/plain": [
       "                                       correlation  num of ratings\n",
       "name                                                              \n",
       "Beelzebub                                 0.710506            5871\n",
       "Amagami SS                                0.705351            5497\n",
       "Bakuman. 2nd Season                       0.677092            6164\n",
       "Re:Zero kara Hajimeru Isekai Seikatsu     0.671666            6123\n",
       "Boku no Hero Academia                     0.669247            6034\n",
       "Shigatsu wa Kimi no Uso                   0.667975            9448\n",
       "Dance in the Vampire Bund                 0.667899            5174\n",
       "Princess Lover!                           0.665735            5005\n",
       "Eureka Seven                              0.665077            7851\n",
       "Ansatsu Kyoushitsu (TV)                   0.661141            6441"
      ]
     },
     "execution_count": 15,
     "metadata": {},
     "output_type": "execute_result"
    }
   ],
   "source": [
    "get_recommendation('Kimi no Na wa.')"
   ]
  },
  {
   "cell_type": "code",
   "execution_count": 16,
   "metadata": {
    "_cell_guid": "06d0df60-e2e8-4e08-bd0f-826658e49bef",
    "_uuid": "b5495a00d38209da668bd995769d6b14832a1ac9"
   },
   "outputs": [
    {
     "name": "stderr",
     "output_type": "stream",
     "text": [
      "/opt/conda/lib/python3.6/site-packages/numpy/lib/function_base.py:3154: RuntimeWarning: Degrees of freedom <= 0 for slice\n",
      "  c = cov(x, y, rowvar)\n",
      "/opt/conda/lib/python3.6/site-packages/numpy/lib/function_base.py:3088: RuntimeWarning: divide by zero encountered in double_scalars\n",
      "  c *= 1. / np.float64(fact)\n"
     ]
    },
    {
     "data": {
      "text/html": [
       "<div>\n",
       "<style>\n",
       "    .dataframe thead tr:only-child th {\n",
       "        text-align: right;\n",
       "    }\n",
       "\n",
       "    .dataframe thead th {\n",
       "        text-align: left;\n",
       "    }\n",
       "\n",
       "    .dataframe tbody tr th {\n",
       "        vertical-align: top;\n",
       "    }\n",
       "</style>\n",
       "<table border=\"1\" class=\"dataframe\">\n",
       "  <thead>\n",
       "    <tr style=\"text-align: right;\">\n",
       "      <th></th>\n",
       "      <th>correlation</th>\n",
       "      <th>num of ratings</th>\n",
       "    </tr>\n",
       "    <tr>\n",
       "      <th>name</th>\n",
       "      <th></th>\n",
       "      <th></th>\n",
       "    </tr>\n",
       "  </thead>\n",
       "  <tbody>\n",
       "    <tr>\n",
       "      <th>Naruto</th>\n",
       "      <td>1.000000</td>\n",
       "      <td>25925</td>\n",
       "    </tr>\n",
       "    <tr>\n",
       "      <th>Bleach</th>\n",
       "      <td>0.720531</td>\n",
       "      <td>12845</td>\n",
       "    </tr>\n",
       "    <tr>\n",
       "      <th>InuYasha</th>\n",
       "      <td>0.704638</td>\n",
       "      <td>9328</td>\n",
       "    </tr>\n",
       "    <tr>\n",
       "      <th>Shaman King</th>\n",
       "      <td>0.696407</td>\n",
       "      <td>7814</td>\n",
       "    </tr>\n",
       "    <tr>\n",
       "      <th>Katekyo Hitman Reborn!</th>\n",
       "      <td>0.694202</td>\n",
       "      <td>6739</td>\n",
       "    </tr>\n",
       "    <tr>\n",
       "      <th>Tenjou Tenge</th>\n",
       "      <td>0.691476</td>\n",
       "      <td>5150</td>\n",
       "    </tr>\n",
       "    <tr>\n",
       "      <th>Sekirei</th>\n",
       "      <td>0.691413</td>\n",
       "      <td>7924</td>\n",
       "    </tr>\n",
       "    <tr>\n",
       "      <th>Rurouni Kenshin: Meiji Kenkaku Romantan</th>\n",
       "      <td>0.690855</td>\n",
       "      <td>7900</td>\n",
       "    </tr>\n",
       "    <tr>\n",
       "      <th>Shijou Saikyou no Deshi Kenichi</th>\n",
       "      <td>0.690250</td>\n",
       "      <td>5654</td>\n",
       "    </tr>\n",
       "    <tr>\n",
       "      <th>Tsubasa Chronicle</th>\n",
       "      <td>0.688495</td>\n",
       "      <td>5465</td>\n",
       "    </tr>\n",
       "  </tbody>\n",
       "</table>\n",
       "</div>"
      ],
      "text/plain": [
       "                                         correlation  num of ratings\n",
       "name                                                                \n",
       "Naruto                                      1.000000           25925\n",
       "Bleach                                      0.720531           12845\n",
       "InuYasha                                    0.704638            9328\n",
       "Shaman King                                 0.696407            7814\n",
       "Katekyo Hitman Reborn!                      0.694202            6739\n",
       "Tenjou Tenge                                0.691476            5150\n",
       "Sekirei                                     0.691413            7924\n",
       "Rurouni Kenshin: Meiji Kenkaku Romantan     0.690855            7900\n",
       "Shijou Saikyou no Deshi Kenichi             0.690250            5654\n",
       "Tsubasa Chronicle                           0.688495            5465"
      ]
     },
     "execution_count": 16,
     "metadata": {},
     "output_type": "execute_result"
    }
   ],
   "source": [
    "get_recommendation('Naruto')"
   ]
  },
  {
   "cell_type": "code",
   "execution_count": 17,
   "metadata": {
    "_cell_guid": "75b8313b-23f1-4016-8750-3af1d07d392e",
    "_uuid": "ae4595f1e430cf272b56f7852f9b0c50f9504e43"
   },
   "outputs": [
    {
     "name": "stderr",
     "output_type": "stream",
     "text": [
      "/opt/conda/lib/python3.6/site-packages/numpy/lib/function_base.py:3154: RuntimeWarning: Degrees of freedom <= 0 for slice\n",
      "  c = cov(x, y, rowvar)\n",
      "/opt/conda/lib/python3.6/site-packages/numpy/lib/function_base.py:3088: RuntimeWarning: divide by zero encountered in double_scalars\n",
      "  c *= 1. / np.float64(fact)\n"
     ]
    },
    {
     "data": {
      "text/html": [
       "<div>\n",
       "<style>\n",
       "    .dataframe thead tr:only-child th {\n",
       "        text-align: right;\n",
       "    }\n",
       "\n",
       "    .dataframe thead th {\n",
       "        text-align: left;\n",
       "    }\n",
       "\n",
       "    .dataframe tbody tr th {\n",
       "        vertical-align: top;\n",
       "    }\n",
       "</style>\n",
       "<table border=\"1\" class=\"dataframe\">\n",
       "  <thead>\n",
       "    <tr style=\"text-align: right;\">\n",
       "      <th></th>\n",
       "      <th>correlation</th>\n",
       "      <th>num of ratings</th>\n",
       "    </tr>\n",
       "    <tr>\n",
       "      <th>name</th>\n",
       "      <th></th>\n",
       "      <th></th>\n",
       "    </tr>\n",
       "  </thead>\n",
       "  <tbody>\n",
       "    <tr>\n",
       "      <th>Mushishi</th>\n",
       "      <td>1.000000</td>\n",
       "      <td>7004</td>\n",
       "    </tr>\n",
       "    <tr>\n",
       "      <th>D-Frag!</th>\n",
       "      <td>0.728374</td>\n",
       "      <td>5124</td>\n",
       "    </tr>\n",
       "    <tr>\n",
       "      <th>Samurai Champloo</th>\n",
       "      <td>0.720465</td>\n",
       "      <td>14068</td>\n",
       "    </tr>\n",
       "    <tr>\n",
       "      <th>Natsume Yuujinchou</th>\n",
       "      <td>0.720205</td>\n",
       "      <td>6052</td>\n",
       "    </tr>\n",
       "    <tr>\n",
       "      <th>Hitsugi no Chaika</th>\n",
       "      <td>0.711976</td>\n",
       "      <td>5168</td>\n",
       "    </tr>\n",
       "    <tr>\n",
       "      <th>Arakawa Under the Bridge</th>\n",
       "      <td>0.710618</td>\n",
       "      <td>5732</td>\n",
       "    </tr>\n",
       "    <tr>\n",
       "      <th>Ghost in the Shell: Stand Alone Complex</th>\n",
       "      <td>0.706540</td>\n",
       "      <td>6329</td>\n",
       "    </tr>\n",
       "    <tr>\n",
       "      <th>Kami nomi zo Shiru Sekai: Megami-hen</th>\n",
       "      <td>0.706520</td>\n",
       "      <td>5733</td>\n",
       "    </tr>\n",
       "    <tr>\n",
       "      <th>Kami nomi zo Shiru Sekai II</th>\n",
       "      <td>0.705563</td>\n",
       "      <td>9235</td>\n",
       "    </tr>\n",
       "    <tr>\n",
       "      <th>Nichijou</th>\n",
       "      <td>0.703834</td>\n",
       "      <td>5825</td>\n",
       "    </tr>\n",
       "  </tbody>\n",
       "</table>\n",
       "</div>"
      ],
      "text/plain": [
       "                                         correlation  num of ratings\n",
       "name                                                                \n",
       "Mushishi                                    1.000000            7004\n",
       "D-Frag!                                     0.728374            5124\n",
       "Samurai Champloo                            0.720465           14068\n",
       "Natsume Yuujinchou                          0.720205            6052\n",
       "Hitsugi no Chaika                           0.711976            5168\n",
       "Arakawa Under the Bridge                    0.710618            5732\n",
       "Ghost in the Shell: Stand Alone Complex     0.706540            6329\n",
       "Kami nomi zo Shiru Sekai: Megami-hen        0.706520            5733\n",
       "Kami nomi zo Shiru Sekai II                 0.705563            9235\n",
       "Nichijou                                    0.703834            5825"
      ]
     },
     "execution_count": 17,
     "metadata": {},
     "output_type": "execute_result"
    }
   ],
   "source": [
    "get_recommendation('Mushishi')"
   ]
  },
  {
   "cell_type": "code",
   "execution_count": 18,
   "metadata": {},
   "outputs": [
    {
     "name": "stderr",
     "output_type": "stream",
     "text": [
      "/opt/conda/lib/python3.6/site-packages/numpy/lib/function_base.py:3154: RuntimeWarning: Degrees of freedom <= 0 for slice\n",
      "  c = cov(x, y, rowvar)\n",
      "/opt/conda/lib/python3.6/site-packages/numpy/lib/function_base.py:3088: RuntimeWarning: divide by zero encountered in double_scalars\n",
      "  c *= 1. / np.float64(fact)\n"
     ]
    },
    {
     "data": {
      "text/html": [
       "<div>\n",
       "<style>\n",
       "    .dataframe thead tr:only-child th {\n",
       "        text-align: right;\n",
       "    }\n",
       "\n",
       "    .dataframe thead th {\n",
       "        text-align: left;\n",
       "    }\n",
       "\n",
       "    .dataframe tbody tr th {\n",
       "        vertical-align: top;\n",
       "    }\n",
       "</style>\n",
       "<table border=\"1\" class=\"dataframe\">\n",
       "  <thead>\n",
       "    <tr style=\"text-align: right;\">\n",
       "      <th></th>\n",
       "      <th>correlation</th>\n",
       "      <th>num of ratings</th>\n",
       "    </tr>\n",
       "    <tr>\n",
       "      <th>name</th>\n",
       "      <th></th>\n",
       "      <th></th>\n",
       "    </tr>\n",
       "  </thead>\n",
       "  <tbody>\n",
       "    <tr>\n",
       "      <th>Noragami</th>\n",
       "      <td>1.000000</td>\n",
       "      <td>15070</td>\n",
       "    </tr>\n",
       "    <tr>\n",
       "      <th>Hitsugi no Chaika</th>\n",
       "      <td>0.798425</td>\n",
       "      <td>5168</td>\n",
       "    </tr>\n",
       "    <tr>\n",
       "      <th>Kami nomi zo Shiru Sekai: Megami-hen</th>\n",
       "      <td>0.792456</td>\n",
       "      <td>5733</td>\n",
       "    </tr>\n",
       "    <tr>\n",
       "      <th>Kyoukai no Kanata</th>\n",
       "      <td>0.791119</td>\n",
       "      <td>11152</td>\n",
       "    </tr>\n",
       "    <tr>\n",
       "      <th>Suisei no Gargantia</th>\n",
       "      <td>0.789261</td>\n",
       "      <td>6371</td>\n",
       "    </tr>\n",
       "    <tr>\n",
       "      <th>Nisekoi</th>\n",
       "      <td>0.784901</td>\n",
       "      <td>10337</td>\n",
       "    </tr>\n",
       "    <tr>\n",
       "      <th>Magi: The Kingdom of Magic</th>\n",
       "      <td>0.783770</td>\n",
       "      <td>7279</td>\n",
       "    </tr>\n",
       "    <tr>\n",
       "      <th>Strike the Blood</th>\n",
       "      <td>0.776561</td>\n",
       "      <td>6434</td>\n",
       "    </tr>\n",
       "    <tr>\n",
       "      <th>Monogatari Series: Second Season</th>\n",
       "      <td>0.776080</td>\n",
       "      <td>6058</td>\n",
       "    </tr>\n",
       "    <tr>\n",
       "      <th>Log Horizon</th>\n",
       "      <td>0.775412</td>\n",
       "      <td>11187</td>\n",
       "    </tr>\n",
       "  </tbody>\n",
       "</table>\n",
       "</div>"
      ],
      "text/plain": [
       "                                      correlation  num of ratings\n",
       "name                                                             \n",
       "Noragami                                 1.000000           15070\n",
       "Hitsugi no Chaika                        0.798425            5168\n",
       "Kami nomi zo Shiru Sekai: Megami-hen     0.792456            5733\n",
       "Kyoukai no Kanata                        0.791119           11152\n",
       "Suisei no Gargantia                      0.789261            6371\n",
       "Nisekoi                                  0.784901           10337\n",
       "Magi: The Kingdom of Magic               0.783770            7279\n",
       "Strike the Blood                         0.776561            6434\n",
       "Monogatari Series: Second Season         0.776080            6058\n",
       "Log Horizon                              0.775412           11187"
      ]
     },
     "execution_count": 18,
     "metadata": {},
     "output_type": "execute_result"
    }
   ],
   "source": [
    "get_recommendation('Noragami')"
   ]
  }
 ],
 "metadata": {
  "kernelspec": {
   "display_name": "Python 3",
   "language": "python",
   "name": "python3"
  },
  "language_info": {
   "codemirror_mode": {
    "name": "ipython",
    "version": 3
   },
   "file_extension": ".py",
   "mimetype": "text/x-python",
   "name": "python",
   "nbconvert_exporter": "python",
   "pygments_lexer": "ipython3",
   "version": "3.8.2"
  }
 },
 "nbformat": 4,
 "nbformat_minor": 1
}
